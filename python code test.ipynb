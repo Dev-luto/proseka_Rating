{
 "cells": [
  {
   "cell_type": "markdown",
   "metadata": {},
   "source": [
    "파이썬 구현 코드테스트\n",
    "\n",
    "- 곡 DB 읽어오기 (r_db)\n",
    "1. excel파일로 읽어오기\n",
    "- 따로 파일가공이 필요 없음\n",
    "- 이후 HTML/JS 컨버트시 호환성 문제 생길것으로 예상\n",
    "2. csv 파일로 읽어오기\n",
    "- 추가적인 파일가공이 필요\n",
    "- 이후 HTML/JS 컨버트시 추가 작업 없음\n",
    "----------------------------------------------\n",
    "- 검색 시스탬 기획안 (ch_db)\n",
    "1. 기본적으로 전곡을 리스트로 선택가능하게\n",
    "2. 검색시 1번 리스트에서 해당되는 것들만 표시\n",
    "----------------------------------------------\n",
    "- r_db 결론점\n",
    "- csv 파일형태로 저장파일 이원화(Song.xlsx / Song.csv)\n",
    "    -> python, js(html) 모두 xlsx 파일을 읽기에 불편함(엑셀의 기능을 봉인한채 이용해야함 / 병합 등)"
   ]
  },
  {
   "cell_type": "code",
   "execution_count": 3,
   "metadata": {},
   "outputs": [],
   "source": [
    "# 곡 데이터 리스트 통합\n",
    "import csv\n",
    "Song_file = open('Song.csv','r',encoding='utf-8')   # 파일 불러오기\n",
    "# 저장할 리스트들\n",
    "s_ol = []      # song origin list\n",
    "s_tl = []      # song translated list\n",
    "s_cl = []      # song composer list\n",
    "s_nl = []      # song number list\n",
    "# 파일 읽어서 각각 리스트 저장\n",
    "with Song_file as f:\n",
    "    fls = 0     # first line skip\n",
    "    reader = csv.reader(f)\n",
    "    for l in reader:\n",
    "        if fls == 0: \n",
    "            fls = 1\n",
    "            continue\n",
    "        s_ol.append(l[2])\n",
    "        s_tl.append(l[1])\n",
    "        s_cl.append(l[3])\n",
    "        s_nl.append(l[0])\n",
    "    deleted_song()\n"
   ]
  },
  {
   "cell_type": "code",
   "execution_count": 2,
   "metadata": {},
   "outputs": [],
   "source": [
    "# 삭제곡 제거\n",
    "def deleted_song():\n",
    "    s_ol.remove('삭제곡(영구결번)')\n",
    "    s_tl.remove('삭제곡(영구결번)')\n",
    "    s_cl.remove('삭제곡')\n",
    "    s_nl.remove('195')\n",
    "    s_ol.remove('삭제곡(영구결번)')\n",
    "    s_tl.remove('삭제곡(영구결번)')\n",
    "    s_cl.remove('삭제곡')\n",
    "    s_nl.remove('235')"
   ]
  },
  {
   "cell_type": "code",
   "execution_count": null,
   "metadata": {},
   "outputs": [],
   "source": [
    "# 무결성 검사\n",
    "if '' in s_ol:\n",
    "    print('공란있음')\n",
    "else:\n",
    "    print('이상없음')\n",
    "if '' in s_tl:\n",
    "    print('공란있음')\n",
    "else:\n",
    "    print('이상없음')\n",
    "if '' in s_cl:\n",
    "    print('공란있음')\n",
    "else:\n",
    "    print('이상없음')\n",
    "if '' in s_nl:\n",
    "    print('공란있음')\n",
    "else:\n",
    "    print('이상없음')\n",
    "# 삭제곡 정상 삭제 확인\n",
    "if '195' in s_nl:\n",
    "    print('error')\n",
    "else:\n",
    "    print('good')"
   ]
  },
  {
   "cell_type": "code",
   "execution_count": null,
   "metadata": {},
   "outputs": [],
   "source": [
    "# 확인용\n",
    "print(s_ol) # 원곡명\n",
    "print(s_tl) # 번역명\n",
    "print(s_cl) # 작곡가\n",
    "print(s_nl) # 곡번호"
   ]
  },
  {
   "cell_type": "code",
   "execution_count": null,
   "metadata": {},
   "outputs": [],
   "source": [
    "# 곡 데이터 통합 리스트 만들기\n",
    "i = 0\n",
    "index_max = len(s_nl) - 1\n",
    "song_list = []\n",
    "while i <= index_max:\n",
    "    temptuple = (s_nl[i],s_ol[i],s_tl[i],s_cl[i])\n",
    "    song_list.append(temptuple)\n",
    "    print(temptuple)\n",
    "    i += 1\n",
    "print(song_list)"
   ]
  },
  {
   "cell_type": "code",
   "execution_count": null,
   "metadata": {},
   "outputs": [],
   "source": [
    "# 실험실\n",
    "for i in song_list:\n",
    "    print(i[0])\n"
   ]
  },
  {
   "cell_type": "code",
   "execution_count": 26,
   "metadata": {},
   "outputs": [],
   "source": [
    "# 메인 GUI 제작\n",
    "from tkinter import *\n",
    "root = Tk()\n",
    "root.title('プロセカ force')\n",
    "root.geometry('720x480')\n",
    "\n",
    "# 입력값 추출\n",
    "def search():\n",
    "    thing = r_sb_box.get()\n",
    "    r_test_text.config(text=thing)\n",
    "\n",
    "#요소 제작\n",
    "r_sb_frame = Frame(root)        # sb = search box\n",
    "r_sb_main_start = Label(r_sb_frame, text='악곡 검색')\n",
    "r_sb_box = Entry(r_sb_frame)\n",
    "r_sb_button = Button(r_sb_frame, text='검색', command=search)\n",
    "\n",
    "# 검색분류 선택\n",
    "import tkinter.ttk as ttk\n",
    "sb_class = ['전체','원어명','번역명','작곡가']\n",
    "r_sb_class_list = ttk.Combobox(r_sb_frame)\n",
    "r_sb_class_list.config(height=len(sb_class), values=sb_class, state='readonly')\n",
    "r_sb_class_list.config(width=5)\n",
    "r_sb_class_list.set(sb_class[0])\n",
    "\n",
    "\n",
    "# 테스트용\n",
    "r_test_text = Label(root, text='없음')\n",
    "r_test_box = Listbox(root)\n",
    "\n",
    "# 리스트 삽입\n",
    "r_test_box.config(width=50)\n",
    "r_test_box.insert(1,1)\n",
    "\n",
    "# 요소 배치\n",
    "# 검색바 배치\n",
    "r_sb_main_start.pack(side=LEFT)\n",
    "r_sb_box.pack(side=LEFT)\n",
    "r_sb_button.pack(side=LEFT)\n",
    "r_sb_class_list.pack(side=LEFT)\n",
    "\n",
    "#최종 프레임 배치\n",
    "r_sb_frame.grid(row=0, column=0)\n",
    "\n",
    "# 테스트용\n",
    "r_test_text.grid(row=2,column=0)\n",
    "r_test_box.grid(row=1, column=0)\n",
    "\n",
    "root.mainloop()"
   ]
  }
 ],
 "metadata": {
  "kernelspec": {
   "display_name": "Python 3",
   "language": "python",
   "name": "python3"
  },
  "language_info": {
   "codemirror_mode": {
    "name": "ipython",
    "version": 3
   },
   "file_extension": ".py",
   "mimetype": "text/x-python",
   "name": "python",
   "nbconvert_exporter": "python",
   "pygments_lexer": "ipython3",
   "version": "3.13.0"
  }
 },
 "nbformat": 4,
 "nbformat_minor": 2
}
