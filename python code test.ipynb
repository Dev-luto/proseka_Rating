{
 "cells": [
  {
   "cell_type": "markdown",
   "metadata": {},
   "source": [
    "파이썬 구현 코드테스트\n",
    "\n",
    "- 곡 DB 읽어오기 (r_db)\n",
    "1. excel파일로 읽어오기\n",
    "- 따로 파일가공이 필요 없음\n",
    "- 이후 HTML/JS 컨버트시 호환성 문제 생길것으로 예상\n",
    "2. csv 파일로 읽어오기\n",
    "- 추가적인 파일가공이 필요\n",
    "- 이후 HTML/JS 컨버트시 추가 작업 없음\n",
    "----------------------------------------------\n",
    "- 검색 시스탬 기획안 (ch_db)\n",
    "1. 기본적으로 전곡을 리스트로 선택가능하게\n",
    "2. 검색시 1번 리스트에서 해당되는 것들만 표시\n",
    "----------------------------------------------\n",
    "- r_db 결론점\n",
    "- csv 파일형태로 저장파일 이원화(Song.xlsx / Song.csv)\n",
    "    -> python, js(html) 모두 xlsx 파일을 읽기에 불편함(엑셀의 기능을 봉인한채 이용해야함 / 병합 등)"
   ]
  },
  {
   "cell_type": "code",
   "execution_count": null,
   "metadata": {},
   "outputs": [],
   "source": [
    "import csv  # 파일 읽기 선언\n",
    "Song_file = open('Song.csv','r',encoding='utf-8')"
   ]
  },
  {
   "cell_type": "code",
   "execution_count": null,
   "metadata": {},
   "outputs": [],
   "source": [
    "# 원어명 리스트 뽑아내기\n",
    "s_l = []\n",
    "with Song_file as f:\n",
    "    fls = 0\n",
    "    reader = csv.reader(f)\n",
    "    for l in reader:\n",
    "        if fls == 0:    # 첫열 없애기\n",
    "            fls = 1\n",
    "            continue\n",
    "        s_l.append(l[2])\n",
    "\n",
    "print(s_l)  #확인용"
   ]
  },
  {
   "cell_type": "code",
   "execution_count": null,
   "metadata": {},
   "outputs": [],
   "source": [
    "from tkinter import *\n",
    "import csv"
   ]
  }
 ],
 "metadata": {
  "kernelspec": {
   "display_name": "Python 3",
   "language": "python",
   "name": "python3"
  },
  "language_info": {
   "codemirror_mode": {
    "name": "ipython",
    "version": 3
   },
   "file_extension": ".py",
   "mimetype": "text/x-python",
   "name": "python",
   "nbconvert_exporter": "python",
   "pygments_lexer": "ipython3",
   "version": "3.11.4"
  }
 },
 "nbformat": 4,
 "nbformat_minor": 2
}
